{
 "cells": [
  {
   "cell_type": "code",
   "execution_count": 1,
   "id": "88ac0e04",
   "metadata": {},
   "outputs": [
    {
     "name": "stderr",
     "output_type": "stream",
     "text": [
      "/home/alex/Diplom/diplom_venv/lib/python3.10/site-packages/tqdm/auto.py:21: TqdmWarning: IProgress not found. Please update jupyter and ipywidgets. See https://ipywidgets.readthedocs.io/en/stable/user_install.html\n",
      "  from .autonotebook import tqdm as notebook_tqdm\n"
     ]
    }
   ],
   "source": [
    "import spacy\n",
    "from nltk.corpus import stopwords\n",
    "from keybert import KeyBERT\n",
    "from flair.embeddings import TransformerDocumentEmbeddings"
   ]
  },
  {
   "cell_type": "code",
   "execution_count": 2,
   "id": "b8d26f3b",
   "metadata": {},
   "outputs": [],
   "source": [
    "from keybert import KeyBERT"
   ]
  },
  {
   "cell_type": "code",
   "execution_count": 3,
   "id": "a24cfd53",
   "metadata": {},
   "outputs": [],
   "source": [
    "doc_eng = \"\"\"\n",
    "         Supervised learning is the machine learning task of learning a function that\n",
    "         maps an input to an output based on example input-output pairs. It infers a\n",
    "         function from labeled training data consisting of a set of training examples.\n",
    "         In supervised learning, each example is a pair consisting of an input object\n",
    "         (typically a vector) and a desired output value (also called the supervisory signal).\n",
    "         A supervised learning algorithm analyzes the training data and produces an inferred function,\n",
    "         which can be used for mapping new examples. An optimal scenario will allow for the\n",
    "         algorithm to correctly determine the class labels for unseen instances. This requires\n",
    "         the learning algorithm to generalize from the training data to unseen situations in a\n",
    "         'reasonable' way (see inductive bias).\n",
    "      \"\"\"\n",
    "\n",
    "doc_ukr = \"\"\"\n",
    "    Навчання під контролем - це завдання машинного навчання, яке полягає у вивченні функції, що\n",
    "    зіставляє вхідні дані з вихідними на основі прикладів пар вхід-вихід. Воно виводить функцію\n",
    "    функцію на основі маркованих навчальних даних, що складаються з набору навчальних прикладів.\n",
    "    У керованому навчанні кожен приклад є парою, що складається з вхідного об'єкта\n",
    "    (зазвичай вектор) і бажаного вихідного значення (також званого керуючим сигналом).\n",
    "    Алгоритм навчання з навчанням аналізує навчальні дані і виробляє виведену функцію,\n",
    "    яку можна використовувати для відображення нових прикладів. Оптимальний сценарій дозволить алгоритму\n",
    "    алгоритму правильно визначати мітки класів для невидимих прикладів. Для цього потрібно, щоб\n",
    "    щоб алгоритм навчання узагальнював навчальні дані для невидимих ситуацій у \"розумний\" спосіб.\n",
    "    \"розумним\" способом (див. індуктивне зміщення).\n",
    "    \"\"\"\n",
    "\n",
    "doc_ger = \"\"\"\n",
    "    Überwachtes Lernen ist die Aufgabe des maschinellen Lernens, eine Funktion zu lernen, die\n",
    "    eine Eingabe auf eine Ausgabe abbildet, basierend auf beispielhaften Eingabe-Ausgabe-Paaren. Es folgert eine\n",
    "    Funktion aus beschrifteten Trainingsdaten, die aus einer Reihe von Trainingsbeispielen bestehen.\n",
    "    Beim überwachten Lernen ist jedes Beispiel ein Paar, das aus einem Eingabeobjekt\n",
    "    (in der Regel ein Vektor) und einem gewünschten Ausgabewert (auch Überwachungssignal genannt) besteht.\n",
    "    Ein überwachter Lernalgorithmus analysiert die Trainingsdaten und erzeugt eine abgeleitete Funktion,\n",
    "    die für das Mapping neuer Beispiele verwendet werden kann. Ein optimales Szenario ermöglicht es dem\n",
    "    Algorithmus die korrekte Bestimmung der Klassenbezeichnungen für ungesehene Instanzen. Dies erfordert\n",
    "    dass der Lernalgorithmus von den Trainingsdaten auf ungesehene Situationen in einer\n",
    "    vernünftigen' Weise verallgemeinert (siehe induktive Verzerrung).\n",
    "\"\"\""
   ]
  },
  {
   "cell_type": "code",
   "execution_count": 19,
   "id": "6708e4c7",
   "metadata": {},
   "outputs": [
    {
     "data": {
      "text/plain": [
       "[('überwachtes lernen', 0.5075),\n",
       " ('überwachten lernen', 0.4893),\n",
       " ('überwachter lernalgorithmus', 0.4888),\n",
       " ('lernalgorithmus analysiert', 0.4389),\n",
       " ('der lernalgorithmus', 0.4119)]"
      ]
     },
     "execution_count": 19,
     "metadata": {},
     "output_type": "execute_result"
    }
   ],
   "source": [
    "kw_model.extract_keywords(doc_ger, keyphrase_ngram_range=(1, 2), stop_words=None)\n"
   ]
  },
  {
   "cell_type": "code",
   "execution_count": 21,
   "id": "7aabdafa",
   "metadata": {},
   "outputs": [
    {
     "data": {
      "text/plain": [
       "[('überwachtes lernen', 0.5075),\n",
       " ('lernalgorithmus trainingsdaten', 0.4942),\n",
       " ('überwachten lernen', 0.4893),\n",
       " ('überwachter lernalgorithmus', 0.4888),\n",
       " ('lernalgorithmus analysiert', 0.4389)]"
      ]
     },
     "execution_count": 21,
     "metadata": {},
     "output_type": "execute_result"
    }
   ],
   "source": [
    "kw_model.extract_keywords(doc_ger, keyphrase_ngram_range=(1, 2), stop_words=stopwords.words(\"german\"))\n"
   ]
  },
  {
   "cell_type": "code",
   "execution_count": 27,
   "id": "4a326a43",
   "metadata": {},
   "outputs": [
    {
     "name": "stderr",
     "output_type": "stream",
     "text": [
      "/home/alex/Diplom/diplom_venv/lib/python3.10/site-packages/sklearn/feature_extraction/text.py:409: UserWarning: Your stop_words may be inconsistent with your preprocessing. Tokenizing the stop words generated tokens ['адресу', 'базі', 'благо', 'бік', 'вигляді', 'винятком', 'випадку', 'випадок', 'вище', 'віддалік', 'відміну', 'відповідності', 'відповідь', 'дев', 'допомогою', 'залежності', 'засадах', 'зв', 'зважаючи', 'зверх', 'згідно', 'знак', 'знаком', 'зразок', 'користь', 'кшталт', 'ласка', 'ліворуч', 'межі', 'метою', 'мимо', 'міру', 'навкруги', 'нагоди', 'наоколо', 'наокруг', 'наокруги', 'напрямі', 'нарівні', 'насупротив', 'незалежно', 'основі', 'подаль', 'подалі', 'подібно', 'поодаль', 'поодалік', 'порівнянні', 'порівняно', 'посередництвом', 'праворуч', 'приводом', 'приводу', 'противагу', 'процесі', 'підставі', 'разом', 'рахунок', 'результаті', 'розрахунку', 'ролі', 'силу', 'слідом', 'сторону', 'судячи', 'супроводі', 'упритиск', 'упритул', 'ході', 'честь', 'чолі', 'язку', 'ятий', 'ятнадцятий', 'ятнадцять', 'ім', 'імені', 'інтересах', 'ґрунті'] not in stop_words.\n",
      "  warnings.warn(\n"
     ]
    },
    {
     "data": {
      "text/plain": [
       "[('вихідними основі', 0.4759),\n",
       " ('дані вихідними', 0.4737),\n",
       " ('вивченні функції', 0.4676),\n",
       " ('дані невидимих', 0.4563),\n",
       " ('відображення нових', 0.4517)]"
      ]
     },
     "execution_count": 27,
     "metadata": {},
     "output_type": "execute_result"
    }
   ],
   "source": [
    "kw_model.extract_keywords(doc_ukr, keyphrase_ngram_range=(1, 2), stop_words=stopwords.words(\"ukrainian\"))\n"
   ]
  },
  {
   "cell_type": "code",
   "execution_count": 28,
   "id": "0d089ae3",
   "metadata": {},
   "outputs": [
    {
     "data": {
      "text/plain": [
       "[('дані вихідними', 0.4737),\n",
       " ('вивченні функції', 0.4676),\n",
       " ('це завдання', 0.4603),\n",
       " ('відображення нових', 0.4517),\n",
       " ('основі маркованих', 0.4464)]"
      ]
     },
     "execution_count": 28,
     "metadata": {},
     "output_type": "execute_result"
    }
   ],
   "source": [
    "kw_model.extract_keywords(doc_ukr, keyphrase_ngram_range=(1, 2))\n"
   ]
  },
  {
   "cell_type": "code",
   "execution_count": 2,
   "id": "80c5d28b",
   "metadata": {},
   "outputs": [],
   "source": [
    "ukr_nlp = spacy.load(\"uk_core_news_lg\")\n",
    "ukr_model = KeyBERT(model=ukr_nlp)"
   ]
  },
  {
   "cell_type": "code",
   "execution_count": 4,
   "id": "c1be98fe",
   "metadata": {},
   "outputs": [
    {
     "data": {
      "text/plain": [
       "[('складається вхідного', 0.7973),\n",
       " ('прикладів керованому', 0.7973),\n",
       " ('також званого', 0.7759),\n",
       " ('значення також', 0.7735),\n",
       " ('прикладів оптимальний', 0.7731)]"
      ]
     },
     "execution_count": 4,
     "metadata": {},
     "output_type": "execute_result"
    }
   ],
   "source": [
    "ukr_model.extract_keywords(doc_ukr, keyphrase_ngram_range=(1,2), stop_words=None)"
   ]
  },
  {
   "cell_type": "code",
   "execution_count": 7,
   "id": "ae829e99",
   "metadata": {},
   "outputs": [
    {
     "data": {
      "text/plain": [
       "[('вихідного значення також', 0.803),\n",
       " ('складається вхідного', 0.7973),\n",
       " ('прикладів керованому', 0.7973),\n",
       " ('значення також званого', 0.7961),\n",
       " ('використовувати для відображення', 0.7886)]"
      ]
     },
     "execution_count": 7,
     "metadata": {},
     "output_type": "execute_result"
    }
   ],
   "source": [
    "ukr_model.extract_keywords(doc_ukr, keyphrase_ngram_range=(2,3))#, stop_words=stopwords.words(\"ukrainian\"))"
   ]
  },
  {
   "cell_type": "code",
   "execution_count": 11,
   "id": "e58b3801",
   "metadata": {},
   "outputs": [
    {
     "name": "stderr",
     "output_type": "stream",
     "text": [
      "Downloading (…)okenizer_config.json: 100%|█████████████| 469/469 [00:00<00:00, 3.24MB/s]\n",
      "Downloading (…)tencepiece.bpe.model: 100%|███████████| 854k/854k [00:00<00:00, 1.87MB/s]\n",
      "Downloading (…)/main/tokenizer.json: 100%|█████████| 2.37M/2.37M [00:00<00:00, 3.30MB/s]\n",
      "Downloading (…)cial_tokens_map.json: 100%|█████████████| 238/238 [00:00<00:00, 1.36MB/s]\n",
      "Downloading (…)lve/main/config.json: 100%|█████████████| 729/729 [00:00<00:00, 7.63MB/s]\n",
      "Downloading pytorch_model.bin: 100%|█████████████████| 438M/438M [00:12<00:00, 35.8MB/s]\n"
     ]
    }
   ],
   "source": [
    "model_name = \"robinhad/ukrainian-qa\"\n",
    "new_ukr_model = TransformerDocumentEmbeddings(model_name)\n",
    "kw_model = KeyBERT(model=new_ukr_model)"
   ]
  },
  {
   "cell_type": "code",
   "execution_count": 14,
   "id": "7a3aea57",
   "metadata": {},
   "outputs": [
    {
     "data": {
      "text/plain": [
       "[('вихідного значення також', 0.803),\n",
       " ('складається вхідного', 0.7973),\n",
       " ('прикладів керованому', 0.7973),\n",
       " ('значення також званого', 0.7961),\n",
       " ('використовувати для відображення', 0.7886)]"
      ]
     },
     "execution_count": 14,
     "metadata": {},
     "output_type": "execute_result"
    }
   ],
   "source": [
    "ukr_model.extract_keywords(doc_ukr, keyphrase_ngram_range=(2,3))#, stop_words=stopwords.words(\"ukrainian\"))"
   ]
  },
  {
   "cell_type": "code",
   "execution_count": null,
   "id": "253a6f17",
   "metadata": {},
   "outputs": [],
   "source": []
  },
  {
   "cell_type": "code",
   "execution_count": 3,
   "id": "1fe8180a",
   "metadata": {},
   "outputs": [],
   "source": [
    "with open(\"../texts/user_books/Omelas.txt\") as file:\n",
    "    text = file.read()\n"
   ]
  },
  {
   "cell_type": "code",
   "execution_count": 6,
   "id": "40f53c7b",
   "metadata": {},
   "outputs": [
    {
     "name": "stdout",
     "output_type": "stream",
     "text": [
      "The Ones Who Walk Away From Omelas\n",
      "\n",
      "With a clamor of bells that set the swallows soaring, the Festiv\n"
     ]
    }
   ],
   "source": [
    "print(text[:100])"
   ]
  },
  {
   "cell_type": "code",
   "execution_count": 4,
   "id": "4cc18242",
   "metadata": {},
   "outputs": [],
   "source": [
    "splitted = text.split(\"\\n\\n\")"
   ]
  },
  {
   "cell_type": "code",
   "execution_count": 12,
   "id": "b14e813f",
   "metadata": {},
   "outputs": [
    {
     "name": "stdout",
     "output_type": "stream",
     "text": [
      "34\n",
      "366\n",
      "416\n",
      "261\n",
      "293\n",
      "365\n",
      "290\n",
      "291\n",
      "385\n",
      "279\n",
      "351\n",
      "459\n",
      "456\n",
      "512\n",
      "341\n",
      "457\n",
      "299\n",
      "299\n",
      "565\n",
      "235\n",
      "364\n",
      "533\n",
      "337\n",
      "228\n",
      "296\n",
      "292\n",
      "319\n",
      "482\n",
      "523\n",
      "740\n",
      "539\n",
      "447\n",
      "443\n",
      "445\n",
      "354\n",
      "215\n",
      "409\n",
      "257\n",
      "237\n",
      "609\n",
      "298\n",
      "247\n"
     ]
    }
   ],
   "source": []
  },
  {
   "cell_type": "code",
   "execution_count": 22,
   "id": "77b498b6",
   "metadata": {},
   "outputs": [],
   "source": [
    "kw_model = KeyBERT(model=spacy.load(\"en_core_web_lg\"))\n",
    "kw = kw_model.extract_keywords(splitted, keyphrase_ngram_range=(2, 3), stop_words=\"english\", use_maxsum=True)"
   ]
  },
  {
   "cell_type": "code",
   "execution_count": 21,
   "id": "dd1830bc",
   "metadata": {},
   "outputs": [
    {
     "name": "stdout",
     "output_type": "stream",
     "text": [
      "[('walk away', 0.0299), ('walk away omelas', 0.0299), ('ones walk', 0.0261), ('ones walk away', 0.0095), ('away omelas', -0.0157)]\n",
      "\n",
      "[('buildings processions moved', 0.7527), ('great parks public', 0.6238), ('swallows soaring festival', 0.5917), ('bright towered sea', 0.532), ('past great', 0.4964)]\n",
      "\n",
      "[('procession dance children', 0.7049), ('rising like', 0.6368), ('swallows crossing flights', 0.575), ('gray grave master', 0.4807), ('old people long', 0.4632)]\n",
      "\n",
      "[('processions wound north', 0.7166), ('called green fields', 0.6893), ('exercised restive', 0.6372), ('city great', 0.6002), ('horses race', 0.3936)]\n",
      "\n",
      "[('animal adopted ceremonies', 0.6617), ('boasted vastly', 0.5045), ('streamers silver', 0.5038), ('excited horse', 0.3929), ('flared nostrils pranced', 0.3913)]\n",
      "\n",
      "[('encircling omelas', 0.6784), ('crowning eighteen peaks', 0.6134), ('morning clear', 0.5999), ('banners marked racecourse', 0.595), ('wind make banners', 0.5902)]\n",
      "\n",
      "[('farther nearer approaching', 0.7202), ('silence broad green', 0.7023), ('music winding', 0.6252), ('gathered broke great', 0.6119), ('time time', 0.4899)]\n",
      "\n",
      "[('make certain assumptions', 0.8161), ('simple folk happy', 0.6177), ('archaic given', 0.6066), ('citizens omelas', 0.4867), ('smiles archaic', 0.4209)]\n",
      "\n",
      "[('society suspect singularly', 0.7511), ('given description tends', 0.6801), ('king did use', 0.6776), ('surrounded noble knights', 0.5557), ('litter borne great', 0.5481)]\n",
      "\n",
      "[('bland utopians complex', 0.7159), ('advertisement secret police', 0.6214), ('did monarchy', 0.4685), ('shepherds noble savages', 0.4649), ('got stock exchange', 0.4327)]\n",
      "\n",
      "[('sophisticates considering happiness', 0.8165), ('interesting treason', 0.717), ('stupid pain intellectual', 0.6456), ('evil terrible', 0.523), ('treason artist refusal', 0.4869)]\n",
      "\n",
      "[('children fact happy', 0.7468), ('mature intelligent', 0.6225), ('hold longer', 0.6023), ('make celebration', 0.5873), ('despair condemn', 0.5211)]\n",
      "\n",
      "[('occasion certainly', 0.7859), ('away time best', 0.6417), ('technology think cars', 0.6253), ('like city fairy', 0.605), ('ago far away', 0.3985)]\n",
      "\n",
      "[('just discrimination necessary', 0.8036), ('perfectly central', 0.7036), ('invented floating', 0.6824), ('happiness based', 0.6124), ('sources fuelless', 0.5812)]\n",
      "\n",
      "[('actually handsomest building', 0.8236), ('towns coast coming', 0.5828), ('trains double', 0.5728), ('station omelas', 0.5419), ('days festival fast', 0.459)]\n",
      "\n",
      "[('stranger desires', 0.7152), ('ready copulate', 0.5981), ('temples issue', 0.5543), ('granted trains', 0.4982), ('strikes goody', 0.4545)]\n",
      "\n",
      "[('really better temples', 0.7635), ('clergy surely', 0.6632), ('hunger needy rapture', 0.6385), ('join processions', 0.5076), ('omelas manned', 0.441)]\n",
      "\n",
      "[('offspring delightful rituals', 0.6528), ('unimportant point', 0.623), ('desire proclaimed', 0.5787), ('tambourines struck copulations', 0.5672), ('beloved looked thing', 0.5637)]\n",
      "\n",
      "[('languor wonderful visions', 0.7602), ('forming modest', 0.7282), ('puritanical like', 0.6492), ('drugs puritanical', 0.5404), ('city drooz', 0.4322)]\n",
      "\n",
      "[('surely celebration courage', 0.7586), ('right kind', 0.6767), ('fearful trivial', 0.5723), ('did clergy', 0.5018), ('built successful', 0.4222)]\n",
      "\n",
      "[('boundless generous contentment', 0.7865), ('communion finest', 0.6127), ('enemy communion', 0.595), ('world summer', 0.5525), ('people omelas', 0.5212)]\n",
      "\n",
      "[('processions reached green', 0.7244), ('small children', 0.6691), ('beginning group', 0.6116), ('rich pastry entangled', 0.4853), ('young men', 0.4208)]\n",
      "\n",
      "[('lowers hands holding', 0.698), ('ceases playing', 0.6381), ('thing magic', 0.5273), ('finishes slowly', 0.5068), ('wholly rapt', 0.3453)]\n",
      "\n",
      "[('starting line imperious', 0.7623), ('little private silence', 0.694), ('imperious melancholy piercing', 0.6279), ('piercing horses', 0.4884), ('sounds pavilion near', 0.4735)]\n",
      "\n",
      "[('racecourse like field', 0.6389), ('begin form', 0.5521), ('festival summer begun', 0.442), ('soothe whispering', 0.4179), ('sober faced', 0.3306)]\n",
      "\n",
      "[('basement beautiful public', 0.7175), ('thing basement beautiful', 0.7122), ('accept festival', 0.4802), ('let thing', 0.4741), ('room locked', 0.4227)]\n",
      "\n",
      "[('little light', 0.6522), ('boards secondhand', 0.5444), ('stand near', 0.4836), ('cellar corner', 0.4598), ('clotted foul', 0.2211)]\n",
      "\n",
      "[('looks actually nearly', 0.7332), ('defective imbecile', 0.5754), ('wide mere broom', 0.5313), ('room child', 0.4731), ('disused tool', 0.4712)]\n",
      "\n",
      "[('understanding time interval', 0.7223), ('knows mops standing', 0.6381), ('locked comes', 0.5238), ('rattles terribly', 0.505), ('peer frightened disgusted', 0.4772)]\n",
      "\n",
      "[('excrement continually', 0.7632), ('remember sunlight mother', 0.6676), ('makes kind', 0.5828), ('used scream', 0.5102), ('hastily filled door', 0.4169)]\n",
      "\n",
      "[('come content merely', 0.7475), ('makers abundance', 0.6868), ('tenderness friendships', 0.6605), ('city tenderness', 0.5867), ('health children', 0.5546)]\n",
      "\n",
      "[('usually explained children', 0.8267), ('capable understanding come', 0.7741), ('disgust thought superior', 0.7181), ('young spectators shocked', 0.6437), ('matter matter', 0.5917)]\n",
      "\n",
      "[('wither destroyed terms', 0.7983), ('explanations like child', 0.7414), ('good thing', 0.6463), ('place cleaned', 0.5966), ('prosperity beauty', 0.5736)]\n",
      "\n",
      "[('happiness thousands chance', 0.7055), ('small improvement throw', 0.6943), ('walls terms strict', 0.6906), ('faced terrible paradox', 0.5537), ('omelas single', 0.4069)]\n",
      "\n",
      "[('doubt little degraded', 0.7297), ('begin realize child', 0.658), ('food real', 0.5963), ('long free', 0.5327), ('years time', 0.4713)]\n",
      "\n",
      "[('treatment long probably', 0.7015), ('habits uncouth respond', 0.675), ('probably wretched', 0.6004), ('protect darkness eyes', 0.5662), ('excrement sit', 0.3427)]\n",
      "\n",
      "[('theirs vapid irresponsible', 0.7668), ('justice reality', 0.6671), ('free know compassion', 0.6421), ('source splendor lives', 0.6239), ('dry begin perceive', 0.4847)]\n",
      "\n",
      "[('possible nobility architecture', 0.7986), ('child knowledge existence', 0.7068), ('existence makes', 0.6681), ('gentle children', 0.4648), ('poignancy music profundity', 0.4573)]\n",
      "\n",
      "[('young riders line', 0.5914), ('wretched sniveling', 0.5167), ('sunlight morning summer', 0.5102), ('make joyful music', 0.4226), ('dark flute player', 0.4111)]\n",
      "\n",
      "[('leaves home people', 0.7085), ('incredible times adolescent', 0.6284), ('believe credible', 0.6261), ('older falls silent', 0.5814), ('child does', 0.5408)]\n",
      "\n",
      "[('windows darkness fields', 0.6804), ('ahead darkness come', 0.6463), ('traveler pass village', 0.5362), ('night falls', 0.5343), ('leave omelas', 0.4432)]\n",
      "\n",
      "[('happiness possible', 0.7831), ('place imaginable city', 0.7021), ('know going', 0.6358), ('does exist', 0.5906), ('ones walk away', 0.584)]\n"
     ]
    }
   ],
   "source": [
    "print(*kw, sep=\"\\n\\n\")"
   ]
  },
  {
   "cell_type": "code",
   "execution_count": 23,
   "id": "bc5a715e",
   "metadata": {},
   "outputs": [
    {
     "name": "stdout",
     "output_type": "stream",
     "text": [
      "[('away omelas', -0.0157), ('ones walk away', 0.0095), ('ones walk', 0.0261), ('walk away omelas', 0.0299), ('walk away', 0.0299)]\n",
      "\n",
      "[('swallows soaring', 0.5556), ('past great parks', 0.5622), ('streets houses red', 0.5828), ('processions moved', 0.6748), ('public buildings', 0.6839)]\n",
      "\n",
      "[('master workmen', 0.581), ('merry women carrying', 0.5861), ('calls rising', 0.5877), ('faster shimmering', 0.5917), ('crossing flights music', 0.614)]\n",
      "\n",
      "[('arms exercised', 0.5452), ('wound north', 0.5486), ('called green', 0.5701), ('city great', 0.6002), ('restive horses', 0.6063)]\n",
      "\n",
      "[('green flared nostrils', 0.4146), ('streamers silver gold', 0.4221), ('vastly excited', 0.4669), ('horse animal', 0.503), ('adopted ceremonies', 0.5148)]\n",
      "\n",
      "[('west mountains stood', 0.5476), ('make banners marked', 0.55), ('half encircling', 0.5551), ('air morning clear', 0.6166), ('crowning eighteen', 0.6361)]\n",
      "\n",
      "[('trembled gathered', 0.5507), ('great joyous clanging', 0.566), ('farther nearer', 0.5859), ('broad green', 0.6094), ('music winding', 0.6252)]\n",
      "\n",
      "[('folk happy say', 0.5392), ('tell joy citizens', 0.5426), ('omelas simple', 0.563), ('archaic given', 0.6066), ('description tends', 0.6324)]\n",
      "\n",
      "[('description tends', 0.628), ('barbarians know rules', 0.6282), ('king mounted', 0.6288), ('great muscled slaves', 0.652), ('suspect singularly', 0.6839)]\n",
      "\n",
      "[('noble savages', 0.4738), ('secret police', 0.516), ('stock exchange advertisement', 0.5367), ('repeat simple', 0.5482), ('bland utopians', 0.5507)]\n",
      "\n",
      "[('habit encouraged', 0.5848), ('banality evil terrible', 0.6188), ('interesting treason artist', 0.6202), ('pain intellectual', 0.6239), ('pedants sophisticates', 0.7007)]\n",
      "\n",
      "[('mature intelligent passionate', 0.6495), ('wish better', 0.6664), ('despair condemn delight', 0.6689), ('children children fact', 0.6721), ('hold longer happy', 0.685)]\n",
      "\n",
      "[('far away time', 0.6264), ('assuming rise occasion', 0.6326), ('suit instance technology', 0.633), ('follows fact', 0.6333), ('happy people', 0.6549)]\n",
      "\n",
      "[('power cure common', 0.6927), ('destructive middle category', 0.6968), ('perfectly central', 0.7036), ('devices invented floating', 0.7124), ('just discrimination', 0.7622)]\n",
      "\n",
      "[('people towns coast', 0.5983), ('trains station', 0.6053), ('like incline', 0.6093), ('incline think', 0.613), ('magnificent farmers', 0.6391)]\n",
      "\n",
      "[('union deep godhead', 0.5277), ('blood idea', 0.5283), ('hesitate let temples', 0.5433), ('lover stranger', 0.5533), ('temples issue', 0.5543)]\n",
      "\n",
      "[('needy rapture flesh', 0.5845), ('manned temples', 0.5926), ('offering like', 0.6483), ('clergy surely', 0.6632), ('really better', 0.6906)]\n",
      "\n",
      "[('rituals beloved looked', 0.5015), ('unimportant point let', 0.5171), ('gory desire proclaimed', 0.5256), ('thing know omelas', 0.5415), ('struck copulations', 0.5584)]\n",
      "\n",
      "[('habit forming', 0.6424), ('drugs puritanical like', 0.6483), ('inmost secrets universe', 0.6492), ('visions arcane', 0.6572), ('great lightness', 0.6631)]\n",
      "\n",
      "[('did clergy', 0.5018), ('built successful slaughter', 0.5078), ('kind joy fearful', 0.5237), ('fearful trivial', 0.5723), ('victory surely celebration', 0.5859)]\n",
      "\n",
      "[('world summer', 0.5525), ('swells hearts people', 0.5536), ('outer enemy communion', 0.6092), ('communion finest', 0.6127), ('contentment magnanimous triumph', 0.6495)]\n",
      "\n",
      "[('horses beginning', 0.5975), ('beginning group', 0.6116), ('green fields marvelous', 0.6167), ('processions reached', 0.6496), ('faces small', 0.6597)]\n",
      "\n",
      "[('finishes slowly', 0.5068), ('thing magic', 0.5273), ('holding wooden', 0.531), ('people pause', 0.5506), ('ceases playing sees', 0.5599)]\n",
      "\n",
      "[('horses rear slender', 0.4371), ('sounds pavilion near', 0.4735), ('imperious melancholy', 0.5939), ('private silence', 0.6117), ('starting line', 0.6405)]\n",
      "\n",
      "[('line crowds', 0.4856), ('wind festival summer', 0.4993), ('racecourse like', 0.5111), ('faced young riders', 0.5127), ('begin form rank', 0.5223)]\n",
      "\n",
      "[('homes room locked', 0.4887), ('believe accept', 0.5155), ('buildings omelas', 0.5472), ('let thing basement', 0.6066), ('beautiful public', 0.649)]\n",
      "\n",
      "[('stand near', 0.4836), ('little room', 0.4852), ('dirt usually', 0.5383), ('light seeps dustily', 0.54), ('boards secondhand', 0.5444)]\n",
      "\n",
      "[('disused tool room', 0.5256), ('malnutrition neglect', 0.5319), ('paces long wide', 0.5392), ('girl looks actually', 0.5707), ('defective imbecile', 0.5754)]\n",
      "\n",
      "[('close peer frightened', 0.5752), ('locked comes child', 0.6019), ('person people', 0.604), ('time interval', 0.6052), ('mops standing', 0.617)]\n",
      "\n",
      "[('mass festered', 0.5582), ('answer child used', 0.5715), ('eyes disappear people', 0.5813), ('good deal makes', 0.5957), ('sits excrement continually', 0.6433)]\n",
      "\n",
      "[('wholly child abominable', 0.6223), ('scholars skill makers', 0.6425), ('makers abundance harvest', 0.6649), ('understand understand', 0.6664), ('city tenderness friendships', 0.6676)]\n",
      "\n",
      "[('matter matter explained', 0.6486), ('young people', 0.6499), ('children capable', 0.7084), ('understanding come', 0.7161), ('disgust thought superior', 0.7181)]\n",
      "\n",
      "[('sunlight vile place', 0.6123), ('prosperity beauty delight', 0.6259), ('good thing', 0.6463), ('destroyed terms', 0.6565), ('despite explanations', 0.6864)]\n",
      "\n",
      "[('terrible paradox', 0.599), ('away happiness thousands', 0.6069), ('improvement throw', 0.62), ('terms strict', 0.6293), ('single small improvement', 0.7055)]\n",
      "\n",
      "[('begin realize', 0.6066), ('afraid long free', 0.6113), ('little vague', 0.6294), ('realize child', 0.641), ('food real doubt', 0.6818)]\n",
      "\n",
      "[('darkness eyes excrement', 0.5478), ('walls protect', 0.5563), ('habits uncouth', 0.5746), ('respond humane', 0.5948), ('long probably', 0.6008)]\n",
      "\n",
      "[('lives theirs vapid', 0.664), ('justice reality', 0.6671), ('generosity acceptance', 0.6671), ('theirs vapid', 0.6703), ('begin perceive terrible', 0.6728)]\n",
      "\n",
      "[('music profundity science', 0.5832), ('makes possible', 0.6167), ('existence child', 0.6277), ('architecture poignancy', 0.6328), ('nobility architecture', 0.7296)]\n",
      "\n",
      "[('flute player make', 0.4389), ('beauty race', 0.4517), ('sunlight morning', 0.4971), ('riders line', 0.5138), ('wretched sniveling', 0.5167)]\n",
      "\n",
      "[('gates walking', 0.6138), ('quite incredible times', 0.6173), ('believe credible', 0.6261), ('child does home', 0.6383), ('people street', 0.6444)]\n",
      "\n",
      "[('falls traveler pass', 0.5377), ('ahead darkness', 0.5673), ('fields west', 0.5721), ('houses yellow', 0.5894), ('darkness come', 0.6042)]\n",
      "\n",
      "[('place place', 0.5933), ('city happiness', 0.6074), ('exist know', 0.6131), ('going ones walk', 0.6463), ('possible does', 0.6628)]\n"
     ]
    }
   ],
   "source": [
    "print(*kw, sep=\"\\n\\n\")"
   ]
  },
  {
   "cell_type": "code",
   "execution_count": null,
   "id": "28134d9f",
   "metadata": {},
   "outputs": [],
   "source": []
  }
 ],
 "metadata": {
  "kernelspec": {
   "display_name": "diplom_venv",
   "language": "python",
   "name": "diplom_venv"
  },
  "language_info": {
   "codemirror_mode": {
    "name": "ipython",
    "version": 3
   },
   "file_extension": ".py",
   "mimetype": "text/x-python",
   "name": "python",
   "nbconvert_exporter": "python",
   "pygments_lexer": "ipython3",
   "version": "3.10.9"
  }
 },
 "nbformat": 4,
 "nbformat_minor": 5
}
