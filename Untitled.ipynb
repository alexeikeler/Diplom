{
 "cells": [
  {
   "cell_type": "code",
   "execution_count": 3,
   "id": "f22888e6",
   "metadata": {},
   "outputs": [
    {
     "ename": "ModuleNotFoundError",
     "evalue": "No module named 'keybert'",
     "output_type": "error",
     "traceback": [
      "\u001b[0;31m---------------------------------------------------------------------------\u001b[0m",
      "\u001b[0;31mModuleNotFoundError\u001b[0m                       Traceback (most recent call last)",
      "Cell \u001b[0;32mIn [3], line 1\u001b[0m\n\u001b[0;32m----> 1\u001b[0m \u001b[38;5;28;01mfrom\u001b[39;00m \u001b[38;5;21;01mkeybert\u001b[39;00m \u001b[38;5;28;01mimport\u001b[39;00m KeyBERT\n\u001b[1;32m      3\u001b[0m doc \u001b[38;5;241m=\u001b[39m \u001b[38;5;124m\"\"\"\u001b[39m\n\u001b[1;32m      4\u001b[0m \u001b[38;5;124m         Supervised learning is the machine learning task of learning a function that\u001b[39m\n\u001b[1;32m      5\u001b[0m \u001b[38;5;124m         maps an input to an output based on example input-output pairs. It infers a\u001b[39m\n\u001b[0;32m   (...)\u001b[0m\n\u001b[1;32m     13\u001b[0m \u001b[38;5;124m         \u001b[39m\u001b[38;5;124m'\u001b[39m\u001b[38;5;124mreasonable\u001b[39m\u001b[38;5;124m'\u001b[39m\u001b[38;5;124m way (see inductive bias).\u001b[39m\n\u001b[1;32m     14\u001b[0m \u001b[38;5;124m      \u001b[39m\u001b[38;5;124m\"\"\"\u001b[39m\n\u001b[1;32m     15\u001b[0m kw_model \u001b[38;5;241m=\u001b[39m KeyBERT()\n",
      "\u001b[0;31mModuleNotFoundError\u001b[0m: No module named 'keybert'"
     ]
    }
   ],
   "source": [
    "from keybert import KeyBERT\n",
    "\n",
    "doc = \"\"\"\n",
    "         Supervised learning is the machine learning task of learning a function that\n",
    "         maps an input to an output based on example input-output pairs. It infers a\n",
    "         function from labeled training data consisting of a set of training examples.\n",
    "         In supervised learning, each example is a pair consisting of an input object\n",
    "         (typically a vector) and a desired output value (also called the supervisory signal).\n",
    "         A supervised learning algorithm analyzes the training data and produces an inferred function,\n",
    "         which can be used for mapping new examples. An optimal scenario will allow for the\n",
    "         algorithm to correctly determine the class labels for unseen instances. This requires\n",
    "         the learning algorithm to generalize from the training data to unseen situations in a\n",
    "         'reasonable' way (see inductive bias).\n",
    "      \"\"\"\n",
    "kw_model = KeyBERT()\n",
    "keywords = kw_model.extract_keywords(doc)"
   ]
  },
  {
   "cell_type": "code",
   "execution_count": 2,
   "id": "c11e798b",
   "metadata": {},
   "outputs": [
    {
     "name": "stdout",
     "output_type": "stream",
     "text": [
      "Looking in indexes: https://pypi.org/simple, https://pypi.ngc.nvidia.com\n",
      "Requirement already satisfied: keybert in /home/alex/Diplom/diplom_venv/lib/python3.10/site-packages (0.7.0)\n",
      "Requirement already satisfied: sentence-transformers>=0.3.8 in /home/alex/Diplom/diplom_venv/lib/python3.10/site-packages (from keybert) (2.2.2)\n",
      "Requirement already satisfied: scikit-learn>=0.22.2 in /home/alex/Diplom/diplom_venv/lib/python3.10/site-packages (from keybert) (1.2.2)\n",
      "Requirement already satisfied: numpy>=1.18.5 in /home/alex/Diplom/diplom_venv/lib/python3.10/site-packages (from keybert) (1.23.5)\n",
      "Requirement already satisfied: rich>=10.4.0 in /home/alex/Diplom/diplom_venv/lib/python3.10/site-packages (from keybert) (13.3.5)\n",
      "Requirement already satisfied: markdown-it-py<3.0.0,>=2.2.0 in /home/alex/Diplom/diplom_venv/lib/python3.10/site-packages (from rich>=10.4.0->keybert) (2.2.0)\n",
      "Requirement already satisfied: pygments<3.0.0,>=2.13.0 in /home/alex/Diplom/diplom_venv/lib/python3.10/site-packages (from rich>=10.4.0->keybert) (2.15.1)\n",
      "Requirement already satisfied: threadpoolctl>=2.0.0 in /home/alex/Diplom/diplom_venv/lib/python3.10/site-packages (from scikit-learn>=0.22.2->keybert) (3.1.0)\n",
      "Requirement already satisfied: scipy>=1.3.2 in /home/alex/Diplom/diplom_venv/lib/python3.10/site-packages (from scikit-learn>=0.22.2->keybert) (1.10.1)\n",
      "Requirement already satisfied: joblib>=1.1.1 in /home/alex/Diplom/diplom_venv/lib/python3.10/site-packages (from scikit-learn>=0.22.2->keybert) (1.2.0)\n",
      "Requirement already satisfied: transformers<5.0.0,>=4.6.0 in /home/alex/Diplom/diplom_venv/lib/python3.10/site-packages (from sentence-transformers>=0.3.8->keybert) (4.29.2)\n",
      "Requirement already satisfied: tqdm in /home/alex/Diplom/diplom_venv/lib/python3.10/site-packages (from sentence-transformers>=0.3.8->keybert) (4.65.0)\n",
      "Requirement already satisfied: torch>=1.6.0 in /home/alex/Diplom/diplom_venv/lib/python3.10/site-packages (from sentence-transformers>=0.3.8->keybert) (2.0.1)\n",
      "Requirement already satisfied: torchvision in /home/alex/Diplom/diplom_venv/lib/python3.10/site-packages (from sentence-transformers>=0.3.8->keybert) (0.15.2)\n",
      "Requirement already satisfied: nltk in /home/alex/Diplom/diplom_venv/lib/python3.10/site-packages (from sentence-transformers>=0.3.8->keybert) (3.8.1)\n",
      "Requirement already satisfied: sentencepiece in /home/alex/Diplom/diplom_venv/lib/python3.10/site-packages (from sentence-transformers>=0.3.8->keybert) (0.1.99)\n",
      "Requirement already satisfied: huggingface-hub>=0.4.0 in /home/alex/Diplom/diplom_venv/lib/python3.10/site-packages (from sentence-transformers>=0.3.8->keybert) (0.14.1)\n",
      "Requirement already satisfied: requests in /home/alex/Diplom/diplom_venv/lib/python3.10/site-packages (from huggingface-hub>=0.4.0->sentence-transformers>=0.3.8->keybert) (2.28.1)\n",
      "Requirement already satisfied: fsspec in /home/alex/Diplom/diplom_venv/lib/python3.10/site-packages (from huggingface-hub>=0.4.0->sentence-transformers>=0.3.8->keybert) (2023.5.0)\n",
      "Requirement already satisfied: packaging>=20.9 in /home/alex/Diplom/diplom_venv/lib/python3.10/site-packages (from huggingface-hub>=0.4.0->sentence-transformers>=0.3.8->keybert) (23.1)\n",
      "Requirement already satisfied: pyyaml>=5.1 in /home/alex/Diplom/diplom_venv/lib/python3.10/site-packages (from huggingface-hub>=0.4.0->sentence-transformers>=0.3.8->keybert) (6.0)\n",
      "Requirement already satisfied: typing-extensions>=3.7.4.3 in /home/alex/Diplom/diplom_venv/lib/python3.10/site-packages (from huggingface-hub>=0.4.0->sentence-transformers>=0.3.8->keybert) (4.5.0)\n",
      "Requirement already satisfied: filelock in /home/alex/Diplom/diplom_venv/lib/python3.10/site-packages (from huggingface-hub>=0.4.0->sentence-transformers>=0.3.8->keybert) (3.12.0)\n",
      "Requirement already satisfied: mdurl~=0.1 in /home/alex/Diplom/diplom_venv/lib/python3.10/site-packages (from markdown-it-py<3.0.0,>=2.2.0->rich>=10.4.0->keybert) (0.1.2)\n",
      "Requirement already satisfied: nvidia-cublas-cu11==11.10.3.66 in /home/alex/Diplom/diplom_venv/lib/python3.10/site-packages (from torch>=1.6.0->sentence-transformers>=0.3.8->keybert) (11.10.3.66)\n",
      "Requirement already satisfied: networkx in /home/alex/Diplom/diplom_venv/lib/python3.10/site-packages (from torch>=1.6.0->sentence-transformers>=0.3.8->keybert) (3.1)\n",
      "Requirement already satisfied: jinja2 in /home/alex/Diplom/diplom_venv/lib/python3.10/site-packages (from torch>=1.6.0->sentence-transformers>=0.3.8->keybert) (3.1.2)\n",
      "Requirement already satisfied: triton==2.0.0 in /home/alex/Diplom/diplom_venv/lib/python3.10/site-packages (from torch>=1.6.0->sentence-transformers>=0.3.8->keybert) (2.0.0)\n",
      "Requirement already satisfied: nvidia-cuda-nvrtc-cu11==11.7.99 in /home/alex/Diplom/diplom_venv/lib/python3.10/site-packages (from torch>=1.6.0->sentence-transformers>=0.3.8->keybert) (11.7.99)\n",
      "Requirement already satisfied: nvidia-cuda-cupti-cu11==11.7.101 in /home/alex/Diplom/diplom_venv/lib/python3.10/site-packages (from torch>=1.6.0->sentence-transformers>=0.3.8->keybert) (11.7.101)\n",
      "Requirement already satisfied: nvidia-curand-cu11==10.2.10.91 in /home/alex/Diplom/diplom_venv/lib/python3.10/site-packages (from torch>=1.6.0->sentence-transformers>=0.3.8->keybert) (10.2.10.91)\n",
      "Requirement already satisfied: nvidia-nvtx-cu11==11.7.91 in /home/alex/Diplom/diplom_venv/lib/python3.10/site-packages (from torch>=1.6.0->sentence-transformers>=0.3.8->keybert) (11.7.91)\n",
      "Requirement already satisfied: nvidia-cudnn-cu11==8.5.0.96 in /home/alex/Diplom/diplom_venv/lib/python3.10/site-packages (from torch>=1.6.0->sentence-transformers>=0.3.8->keybert) (8.5.0.96)\n",
      "Requirement already satisfied: nvidia-cufft-cu11==10.9.0.58 in /home/alex/Diplom/diplom_venv/lib/python3.10/site-packages (from torch>=1.6.0->sentence-transformers>=0.3.8->keybert) (10.9.0.58)\n",
      "Requirement already satisfied: nvidia-cusolver-cu11==11.4.0.1 in /home/alex/Diplom/diplom_venv/lib/python3.10/site-packages (from torch>=1.6.0->sentence-transformers>=0.3.8->keybert) (11.4.0.1)\n",
      "Requirement already satisfied: nvidia-cusparse-cu11==11.7.4.91 in /home/alex/Diplom/diplom_venv/lib/python3.10/site-packages (from torch>=1.6.0->sentence-transformers>=0.3.8->keybert) (11.7.4.91)\n",
      "Requirement already satisfied: nvidia-cuda-runtime-cu11==11.7.99 in /home/alex/Diplom/diplom_venv/lib/python3.10/site-packages (from torch>=1.6.0->sentence-transformers>=0.3.8->keybert) (11.7.99)\n",
      "Requirement already satisfied: nvidia-nccl-cu11==2.14.3 in /home/alex/Diplom/diplom_venv/lib/python3.10/site-packages (from torch>=1.6.0->sentence-transformers>=0.3.8->keybert) (2.14.3)\n",
      "Requirement already satisfied: sympy in /home/alex/Diplom/diplom_venv/lib/python3.10/site-packages (from torch>=1.6.0->sentence-transformers>=0.3.8->keybert) (1.12)\n",
      "Requirement already satisfied: setuptools in /home/alex/Diplom/diplom_venv/lib/python3.10/site-packages (from nvidia-cublas-cu11==11.10.3.66->torch>=1.6.0->sentence-transformers>=0.3.8->keybert) (65.5.0)\n",
      "Requirement already satisfied: wheel in /home/alex/Diplom/diplom_venv/lib/python3.10/site-packages (from nvidia-cublas-cu11==11.10.3.66->torch>=1.6.0->sentence-transformers>=0.3.8->keybert) (0.40.0)\n",
      "Requirement already satisfied: lit in /home/alex/Diplom/diplom_venv/lib/python3.10/site-packages (from triton==2.0.0->torch>=1.6.0->sentence-transformers>=0.3.8->keybert) (16.0.5)\n",
      "Requirement already satisfied: cmake in /home/alex/Diplom/diplom_venv/lib/python3.10/site-packages (from triton==2.0.0->torch>=1.6.0->sentence-transformers>=0.3.8->keybert) (3.26.3)\n",
      "Requirement already satisfied: tokenizers!=0.11.3,<0.14,>=0.11.1 in /home/alex/Diplom/diplom_venv/lib/python3.10/site-packages (from transformers<5.0.0,>=4.6.0->sentence-transformers>=0.3.8->keybert) (0.13.3)\n",
      "Requirement already satisfied: regex!=2019.12.17 in /home/alex/Diplom/diplom_venv/lib/python3.10/site-packages (from transformers<5.0.0,>=4.6.0->sentence-transformers>=0.3.8->keybert) (2023.5.5)\n",
      "Requirement already satisfied: click in /home/alex/Diplom/diplom_venv/lib/python3.10/site-packages (from nltk->sentence-transformers>=0.3.8->keybert) (8.1.3)\n",
      "Requirement already satisfied: pillow!=8.3.*,>=5.3.0 in /home/alex/Diplom/diplom_venv/lib/python3.10/site-packages (from torchvision->sentence-transformers>=0.3.8->keybert) (9.5.0)\n"
     ]
    },
    {
     "name": "stdout",
     "output_type": "stream",
     "text": [
      "Requirement already satisfied: MarkupSafe>=2.0 in /home/alex/Diplom/diplom_venv/lib/python3.10/site-packages (from jinja2->torch>=1.6.0->sentence-transformers>=0.3.8->keybert) (2.1.2)\n",
      "Requirement already satisfied: idna<4,>=2.5 in /home/alex/Diplom/diplom_venv/lib/python3.10/site-packages (from requests->huggingface-hub>=0.4.0->sentence-transformers>=0.3.8->keybert) (2.10)\n",
      "Requirement already satisfied: urllib3<1.27,>=1.21.1 in /home/alex/Diplom/diplom_venv/lib/python3.10/site-packages (from requests->huggingface-hub>=0.4.0->sentence-transformers>=0.3.8->keybert) (1.26.15)\n",
      "Requirement already satisfied: charset-normalizer<3,>=2 in /home/alex/Diplom/diplom_venv/lib/python3.10/site-packages (from requests->huggingface-hub>=0.4.0->sentence-transformers>=0.3.8->keybert) (2.1.1)\n",
      "Requirement already satisfied: certifi>=2017.4.17 in /home/alex/Diplom/diplom_venv/lib/python3.10/site-packages (from requests->huggingface-hub>=0.4.0->sentence-transformers>=0.3.8->keybert) (2023.5.7)\n",
      "Requirement already satisfied: mpmath>=0.19 in /home/alex/Diplom/diplom_venv/lib/python3.10/site-packages (from sympy->torch>=1.6.0->sentence-transformers>=0.3.8->keybert) (1.3.0)\n",
      "\n",
      "\u001b[1m[\u001b[0m\u001b[34;49mnotice\u001b[0m\u001b[1;39;49m]\u001b[0m\u001b[39;49m A new release of pip available: \u001b[0m\u001b[31;49m22.3.1\u001b[0m\u001b[39;49m -> \u001b[0m\u001b[32;49m23.1.2\u001b[0m\n",
      "\u001b[1m[\u001b[0m\u001b[34;49mnotice\u001b[0m\u001b[1;39;49m]\u001b[0m\u001b[39;49m To update, run: \u001b[0m\u001b[32;49mpip install --upgrade pip\u001b[0m\n"
     ]
    }
   ],
   "source": [
    "!pip install keybert"
   ]
  },
  {
   "cell_type": "code",
   "execution_count": null,
   "id": "deed9190",
   "metadata": {},
   "outputs": [],
   "source": []
  }
 ],
 "metadata": {
  "kernelspec": {
   "display_name": "Python 3 (ipykernel)",
   "language": "python",
   "name": "python3"
  },
  "language_info": {
   "codemirror_mode": {
    "name": "ipython",
    "version": 3
   },
   "file_extension": ".py",
   "mimetype": "text/x-python",
   "name": "python",
   "nbconvert_exporter": "python",
   "pygments_lexer": "ipython3",
   "version": "3.10.9"
  }
 },
 "nbformat": 4,
 "nbformat_minor": 5
}
